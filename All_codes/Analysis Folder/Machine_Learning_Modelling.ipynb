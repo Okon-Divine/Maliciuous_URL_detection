{
 "cells": [
  {
   "cell_type": "markdown",
   "id": "cfbb0f9d",
   "metadata": {},
   "source": [
    "## Machine Learning"
   ]
  },
  {
   "cell_type": "code",
   "execution_count": 23,
   "id": "96d331be",
   "metadata": {},
   "outputs": [],
   "source": [
    "import pandas as pd\n",
    "import numpy as np\n",
    "import matplotlib.pyplot as plt\n",
    "from colorama import Fore\n",
    "from sklearn.model_selection import train_test_split\n",
    "from sklearn.metrics import confusion_matrix, classification_report, accuracy_score\n",
    "from sklearn.tree import DecisionTreeClassifier\n",
    "from sklearn.ensemble import RandomForestClassifier, AdaBoostClassifier, ExtraTreesClassifier\n",
    "from sklearn.neighbors import KNeighborsClassifier\n",
    "from sklearn.linear_model import SGDClassifier\n",
    "from sklearn.naive_bayes import GaussianNB\n",
    "from sklearn import model_selection\n",
    "from sklearn.ensemble import BaggingClassifier\n",
    "from sklearn.metrics import confusion_matrix\n",
    "import seaborn as sns\n",
    "from sklearn.metrics import roc_curve"
   ]
  },
  {
   "cell_type": "markdown",
   "id": "a17cc059",
   "metadata": {},
   "source": [
    "### Loading Data"
   ]
  },
  {
   "cell_type": "code",
   "execution_count": 3,
   "id": "a4972f00",
   "metadata": {},
   "outputs": [
    {
     "data": {
      "text/plain": [
       "(46383, 22)"
      ]
     },
     "execution_count": 3,
     "metadata": {},
     "output_type": "execute_result"
    }
   ],
   "source": [
    "df_new_val = pd.read_csv(\"comprehensive_phishing_data.csv\")\n",
    "### taking 20% of the data\n",
    "df_new = df_new_val.sample(frac = 0.07)\n",
    "df_new.shape"
   ]
  },
  {
   "cell_type": "code",
   "execution_count": 8,
   "id": "7cbe0cd7",
   "metadata": {},
   "outputs": [
    {
     "data": {
      "text/plain": [
       "Index(['url', 'url_len', '@', '?', '-', '=', '.', '#', '%', '+', '$', '!', '*',\n",
       "       ',', '//', 'abnormal_url', 'https', 'digits', 'letters',\n",
       "       'Shortining_Service', 'having_ip_address', 'target'],\n",
       "      dtype='object')"
      ]
     },
     "execution_count": 8,
     "metadata": {},
     "output_type": "execute_result"
    }
   ],
   "source": [
    "df_new.columns"
   ]
  },
  {
   "cell_type": "code",
   "execution_count": 9,
   "id": "22de304d",
   "metadata": {},
   "outputs": [],
   "source": [
    "X = df_new.drop(['url'], axis=1)#,'type_code'\n",
    "y = df_new['target']"
   ]
  },
  {
   "cell_type": "code",
   "execution_count": 10,
   "id": "7a44f9a6",
   "metadata": {},
   "outputs": [
    {
     "data": {
      "text/html": [
       "<div>\n",
       "<style scoped>\n",
       "    .dataframe tbody tr th:only-of-type {\n",
       "        vertical-align: middle;\n",
       "    }\n",
       "\n",
       "    .dataframe tbody tr th {\n",
       "        vertical-align: top;\n",
       "    }\n",
       "\n",
       "    .dataframe thead th {\n",
       "        text-align: right;\n",
       "    }\n",
       "</style>\n",
       "<table border=\"1\" class=\"dataframe\">\n",
       "  <thead>\n",
       "    <tr style=\"text-align: right;\">\n",
       "      <th></th>\n",
       "      <th>url</th>\n",
       "      <th>url_len</th>\n",
       "      <th>@</th>\n",
       "      <th>?</th>\n",
       "      <th>-</th>\n",
       "      <th>=</th>\n",
       "      <th>.</th>\n",
       "      <th>#</th>\n",
       "      <th>%</th>\n",
       "      <th>+</th>\n",
       "      <th>...</th>\n",
       "      <th>*</th>\n",
       "      <th>,</th>\n",
       "      <th>//</th>\n",
       "      <th>abnormal_url</th>\n",
       "      <th>https</th>\n",
       "      <th>digits</th>\n",
       "      <th>letters</th>\n",
       "      <th>Shortining_Service</th>\n",
       "      <th>having_ip_address</th>\n",
       "      <th>target</th>\n",
       "    </tr>\n",
       "  </thead>\n",
       "  <tbody>\n",
       "    <tr>\n",
       "      <th>296045</th>\n",
       "      <td>http://zibae.ir/index.php?option=com_content&amp;v...</td>\n",
       "      <td>84</td>\n",
       "      <td>0</td>\n",
       "      <td>1</td>\n",
       "      <td>0</td>\n",
       "      <td>5</td>\n",
       "      <td>2</td>\n",
       "      <td>0</td>\n",
       "      <td>0</td>\n",
       "      <td>0</td>\n",
       "      <td>...</td>\n",
       "      <td>0</td>\n",
       "      <td>0</td>\n",
       "      <td>1</td>\n",
       "      <td>1</td>\n",
       "      <td>0</td>\n",
       "      <td>2</td>\n",
       "      <td>65</td>\n",
       "      <td>0</td>\n",
       "      <td>0</td>\n",
       "      <td>0</td>\n",
       "    </tr>\n",
       "    <tr>\n",
       "      <th>78962</th>\n",
       "      <td>apps.carleton.edu/athletics/varsity_sports/wom...</td>\n",
       "      <td>114</td>\n",
       "      <td>0</td>\n",
       "      <td>1</td>\n",
       "      <td>0</td>\n",
       "      <td>2</td>\n",
       "      <td>2</td>\n",
       "      <td>0</td>\n",
       "      <td>0</td>\n",
       "      <td>0</td>\n",
       "      <td>...</td>\n",
       "      <td>0</td>\n",
       "      <td>0</td>\n",
       "      <td>0</td>\n",
       "      <td>0</td>\n",
       "      <td>0</td>\n",
       "      <td>12</td>\n",
       "      <td>85</td>\n",
       "      <td>0</td>\n",
       "      <td>0</td>\n",
       "      <td>1</td>\n",
       "    </tr>\n",
       "    <tr>\n",
       "      <th>360692</th>\n",
       "      <td>standupscottsdale.com/</td>\n",
       "      <td>22</td>\n",
       "      <td>0</td>\n",
       "      <td>0</td>\n",
       "      <td>0</td>\n",
       "      <td>0</td>\n",
       "      <td>1</td>\n",
       "      <td>0</td>\n",
       "      <td>0</td>\n",
       "      <td>0</td>\n",
       "      <td>...</td>\n",
       "      <td>0</td>\n",
       "      <td>0</td>\n",
       "      <td>0</td>\n",
       "      <td>0</td>\n",
       "      <td>0</td>\n",
       "      <td>0</td>\n",
       "      <td>20</td>\n",
       "      <td>0</td>\n",
       "      <td>0</td>\n",
       "      <td>1</td>\n",
       "    </tr>\n",
       "    <tr>\n",
       "      <th>20640</th>\n",
       "      <td>cahenry.com</td>\n",
       "      <td>11</td>\n",
       "      <td>0</td>\n",
       "      <td>0</td>\n",
       "      <td>0</td>\n",
       "      <td>0</td>\n",
       "      <td>1</td>\n",
       "      <td>0</td>\n",
       "      <td>0</td>\n",
       "      <td>0</td>\n",
       "      <td>...</td>\n",
       "      <td>0</td>\n",
       "      <td>0</td>\n",
       "      <td>0</td>\n",
       "      <td>0</td>\n",
       "      <td>0</td>\n",
       "      <td>0</td>\n",
       "      <td>10</td>\n",
       "      <td>0</td>\n",
       "      <td>0</td>\n",
       "      <td>0</td>\n",
       "    </tr>\n",
       "    <tr>\n",
       "      <th>653547</th>\n",
       "      <td>vypress.com/products/nwsend/</td>\n",
       "      <td>28</td>\n",
       "      <td>0</td>\n",
       "      <td>0</td>\n",
       "      <td>0</td>\n",
       "      <td>0</td>\n",
       "      <td>1</td>\n",
       "      <td>0</td>\n",
       "      <td>0</td>\n",
       "      <td>0</td>\n",
       "      <td>...</td>\n",
       "      <td>0</td>\n",
       "      <td>0</td>\n",
       "      <td>0</td>\n",
       "      <td>0</td>\n",
       "      <td>0</td>\n",
       "      <td>0</td>\n",
       "      <td>24</td>\n",
       "      <td>0</td>\n",
       "      <td>0</td>\n",
       "      <td>0</td>\n",
       "    </tr>\n",
       "    <tr>\n",
       "      <th>...</th>\n",
       "      <td>...</td>\n",
       "      <td>...</td>\n",
       "      <td>...</td>\n",
       "      <td>...</td>\n",
       "      <td>...</td>\n",
       "      <td>...</td>\n",
       "      <td>...</td>\n",
       "      <td>...</td>\n",
       "      <td>...</td>\n",
       "      <td>...</td>\n",
       "      <td>...</td>\n",
       "      <td>...</td>\n",
       "      <td>...</td>\n",
       "      <td>...</td>\n",
       "      <td>...</td>\n",
       "      <td>...</td>\n",
       "      <td>...</td>\n",
       "      <td>...</td>\n",
       "      <td>...</td>\n",
       "      <td>...</td>\n",
       "      <td>...</td>\n",
       "    </tr>\n",
       "    <tr>\n",
       "      <th>6632</th>\n",
       "      <td>http://gloomky.com/wp-includes/customize/a3/</td>\n",
       "      <td>44</td>\n",
       "      <td>0</td>\n",
       "      <td>0</td>\n",
       "      <td>1</td>\n",
       "      <td>0</td>\n",
       "      <td>1</td>\n",
       "      <td>0</td>\n",
       "      <td>0</td>\n",
       "      <td>0</td>\n",
       "      <td>...</td>\n",
       "      <td>0</td>\n",
       "      <td>0</td>\n",
       "      <td>1</td>\n",
       "      <td>1</td>\n",
       "      <td>0</td>\n",
       "      <td>1</td>\n",
       "      <td>34</td>\n",
       "      <td>0</td>\n",
       "      <td>0</td>\n",
       "      <td>0</td>\n",
       "    </tr>\n",
       "    <tr>\n",
       "      <th>458409</th>\n",
       "      <td>absoluteastronomy.com/topics/Holly_Black</td>\n",
       "      <td>40</td>\n",
       "      <td>0</td>\n",
       "      <td>0</td>\n",
       "      <td>0</td>\n",
       "      <td>0</td>\n",
       "      <td>1</td>\n",
       "      <td>0</td>\n",
       "      <td>0</td>\n",
       "      <td>0</td>\n",
       "      <td>...</td>\n",
       "      <td>0</td>\n",
       "      <td>0</td>\n",
       "      <td>0</td>\n",
       "      <td>0</td>\n",
       "      <td>0</td>\n",
       "      <td>0</td>\n",
       "      <td>36</td>\n",
       "      <td>0</td>\n",
       "      <td>0</td>\n",
       "      <td>1</td>\n",
       "    </tr>\n",
       "    <tr>\n",
       "      <th>77763</th>\n",
       "      <td>kcl.ac.uk/lhcma/locreg/alpha.shtml</td>\n",
       "      <td>34</td>\n",
       "      <td>0</td>\n",
       "      <td>0</td>\n",
       "      <td>0</td>\n",
       "      <td>0</td>\n",
       "      <td>3</td>\n",
       "      <td>0</td>\n",
       "      <td>0</td>\n",
       "      <td>0</td>\n",
       "      <td>...</td>\n",
       "      <td>0</td>\n",
       "      <td>0</td>\n",
       "      <td>0</td>\n",
       "      <td>0</td>\n",
       "      <td>0</td>\n",
       "      <td>0</td>\n",
       "      <td>28</td>\n",
       "      <td>0</td>\n",
       "      <td>0</td>\n",
       "      <td>1</td>\n",
       "    </tr>\n",
       "    <tr>\n",
       "      <th>99730</th>\n",
       "      <td>eventosbacus.com</td>\n",
       "      <td>16</td>\n",
       "      <td>0</td>\n",
       "      <td>0</td>\n",
       "      <td>0</td>\n",
       "      <td>0</td>\n",
       "      <td>1</td>\n",
       "      <td>0</td>\n",
       "      <td>0</td>\n",
       "      <td>0</td>\n",
       "      <td>...</td>\n",
       "      <td>0</td>\n",
       "      <td>0</td>\n",
       "      <td>0</td>\n",
       "      <td>0</td>\n",
       "      <td>0</td>\n",
       "      <td>0</td>\n",
       "      <td>15</td>\n",
       "      <td>0</td>\n",
       "      <td>0</td>\n",
       "      <td>0</td>\n",
       "    </tr>\n",
       "    <tr>\n",
       "      <th>13557</th>\n",
       "      <td>http://sportraad-maasmechelen.be/index.php?opt...</td>\n",
       "      <td>112</td>\n",
       "      <td>0</td>\n",
       "      <td>1</td>\n",
       "      <td>1</td>\n",
       "      <td>4</td>\n",
       "      <td>2</td>\n",
       "      <td>0</td>\n",
       "      <td>0</td>\n",
       "      <td>0</td>\n",
       "      <td>...</td>\n",
       "      <td>0</td>\n",
       "      <td>0</td>\n",
       "      <td>1</td>\n",
       "      <td>1</td>\n",
       "      <td>0</td>\n",
       "      <td>4</td>\n",
       "      <td>91</td>\n",
       "      <td>0</td>\n",
       "      <td>0</td>\n",
       "      <td>0</td>\n",
       "    </tr>\n",
       "  </tbody>\n",
       "</table>\n",
       "<p>46383 rows × 22 columns</p>\n",
       "</div>"
      ],
      "text/plain": [
       "                                                      url  url_len  @  ?  -  \\\n",
       "296045  http://zibae.ir/index.php?option=com_content&v...       84  0  1  0   \n",
       "78962   apps.carleton.edu/athletics/varsity_sports/wom...      114  0  1  0   \n",
       "360692                             standupscottsdale.com/       22  0  0  0   \n",
       "20640                                         cahenry.com       11  0  0  0   \n",
       "653547                       vypress.com/products/nwsend/       28  0  0  0   \n",
       "...                                                   ...      ... .. .. ..   \n",
       "6632         http://gloomky.com/wp-includes/customize/a3/       44  0  0  1   \n",
       "458409           absoluteastronomy.com/topics/Holly_Black       40  0  0  0   \n",
       "77763                  kcl.ac.uk/lhcma/locreg/alpha.shtml       34  0  0  0   \n",
       "99730                                    eventosbacus.com       16  0  0  0   \n",
       "13557   http://sportraad-maasmechelen.be/index.php?opt...      112  0  1  1   \n",
       "\n",
       "        =  .  #  %  +  ...  *  ,  //  abnormal_url  https  digits  letters  \\\n",
       "296045  5  2  0  0  0  ...  0  0   1             1      0       2       65   \n",
       "78962   2  2  0  0  0  ...  0  0   0             0      0      12       85   \n",
       "360692  0  1  0  0  0  ...  0  0   0             0      0       0       20   \n",
       "20640   0  1  0  0  0  ...  0  0   0             0      0       0       10   \n",
       "653547  0  1  0  0  0  ...  0  0   0             0      0       0       24   \n",
       "...    .. .. .. .. ..  ... .. ..  ..           ...    ...     ...      ...   \n",
       "6632    0  1  0  0  0  ...  0  0   1             1      0       1       34   \n",
       "458409  0  1  0  0  0  ...  0  0   0             0      0       0       36   \n",
       "77763   0  3  0  0  0  ...  0  0   0             0      0       0       28   \n",
       "99730   0  1  0  0  0  ...  0  0   0             0      0       0       15   \n",
       "13557   4  2  0  0  0  ...  0  0   1             1      0       4       91   \n",
       "\n",
       "        Shortining_Service  having_ip_address  target  \n",
       "296045                   0                  0       0  \n",
       "78962                    0                  0       1  \n",
       "360692                   0                  0       1  \n",
       "20640                    0                  0       0  \n",
       "653547                   0                  0       0  \n",
       "...                    ...                ...     ...  \n",
       "6632                     0                  0       0  \n",
       "458409                   0                  0       1  \n",
       "77763                    0                  0       1  \n",
       "99730                    0                  0       0  \n",
       "13557                    0                  0       0  \n",
       "\n",
       "[46383 rows x 22 columns]"
      ]
     },
     "execution_count": 10,
     "metadata": {},
     "output_type": "execute_result"
    }
   ],
   "source": [
    "df_new"
   ]
  },
  {
   "cell_type": "code",
   "execution_count": 11,
   "id": "5f124a80",
   "metadata": {},
   "outputs": [
    {
     "data": {
      "text/html": [
       "<div>\n",
       "<style scoped>\n",
       "    .dataframe tbody tr th:only-of-type {\n",
       "        vertical-align: middle;\n",
       "    }\n",
       "\n",
       "    .dataframe tbody tr th {\n",
       "        vertical-align: top;\n",
       "    }\n",
       "\n",
       "    .dataframe thead th {\n",
       "        text-align: right;\n",
       "    }\n",
       "</style>\n",
       "<table border=\"1\" class=\"dataframe\">\n",
       "  <thead>\n",
       "    <tr style=\"text-align: right;\">\n",
       "      <th></th>\n",
       "      <th>url_len</th>\n",
       "      <th>@</th>\n",
       "      <th>?</th>\n",
       "      <th>-</th>\n",
       "      <th>=</th>\n",
       "      <th>.</th>\n",
       "      <th>#</th>\n",
       "      <th>%</th>\n",
       "      <th>+</th>\n",
       "      <th>$</th>\n",
       "      <th>...</th>\n",
       "      <th>*</th>\n",
       "      <th>,</th>\n",
       "      <th>//</th>\n",
       "      <th>abnormal_url</th>\n",
       "      <th>https</th>\n",
       "      <th>digits</th>\n",
       "      <th>letters</th>\n",
       "      <th>Shortining_Service</th>\n",
       "      <th>having_ip_address</th>\n",
       "      <th>target</th>\n",
       "    </tr>\n",
       "  </thead>\n",
       "  <tbody>\n",
       "    <tr>\n",
       "      <th>296045</th>\n",
       "      <td>84</td>\n",
       "      <td>0</td>\n",
       "      <td>1</td>\n",
       "      <td>0</td>\n",
       "      <td>5</td>\n",
       "      <td>2</td>\n",
       "      <td>0</td>\n",
       "      <td>0</td>\n",
       "      <td>0</td>\n",
       "      <td>0</td>\n",
       "      <td>...</td>\n",
       "      <td>0</td>\n",
       "      <td>0</td>\n",
       "      <td>1</td>\n",
       "      <td>1</td>\n",
       "      <td>0</td>\n",
       "      <td>2</td>\n",
       "      <td>65</td>\n",
       "      <td>0</td>\n",
       "      <td>0</td>\n",
       "      <td>0</td>\n",
       "    </tr>\n",
       "    <tr>\n",
       "      <th>78962</th>\n",
       "      <td>114</td>\n",
       "      <td>0</td>\n",
       "      <td>1</td>\n",
       "      <td>0</td>\n",
       "      <td>2</td>\n",
       "      <td>2</td>\n",
       "      <td>0</td>\n",
       "      <td>0</td>\n",
       "      <td>0</td>\n",
       "      <td>0</td>\n",
       "      <td>...</td>\n",
       "      <td>0</td>\n",
       "      <td>0</td>\n",
       "      <td>0</td>\n",
       "      <td>0</td>\n",
       "      <td>0</td>\n",
       "      <td>12</td>\n",
       "      <td>85</td>\n",
       "      <td>0</td>\n",
       "      <td>0</td>\n",
       "      <td>1</td>\n",
       "    </tr>\n",
       "    <tr>\n",
       "      <th>360692</th>\n",
       "      <td>22</td>\n",
       "      <td>0</td>\n",
       "      <td>0</td>\n",
       "      <td>0</td>\n",
       "      <td>0</td>\n",
       "      <td>1</td>\n",
       "      <td>0</td>\n",
       "      <td>0</td>\n",
       "      <td>0</td>\n",
       "      <td>0</td>\n",
       "      <td>...</td>\n",
       "      <td>0</td>\n",
       "      <td>0</td>\n",
       "      <td>0</td>\n",
       "      <td>0</td>\n",
       "      <td>0</td>\n",
       "      <td>0</td>\n",
       "      <td>20</td>\n",
       "      <td>0</td>\n",
       "      <td>0</td>\n",
       "      <td>1</td>\n",
       "    </tr>\n",
       "    <tr>\n",
       "      <th>20640</th>\n",
       "      <td>11</td>\n",
       "      <td>0</td>\n",
       "      <td>0</td>\n",
       "      <td>0</td>\n",
       "      <td>0</td>\n",
       "      <td>1</td>\n",
       "      <td>0</td>\n",
       "      <td>0</td>\n",
       "      <td>0</td>\n",
       "      <td>0</td>\n",
       "      <td>...</td>\n",
       "      <td>0</td>\n",
       "      <td>0</td>\n",
       "      <td>0</td>\n",
       "      <td>0</td>\n",
       "      <td>0</td>\n",
       "      <td>0</td>\n",
       "      <td>10</td>\n",
       "      <td>0</td>\n",
       "      <td>0</td>\n",
       "      <td>0</td>\n",
       "    </tr>\n",
       "    <tr>\n",
       "      <th>653547</th>\n",
       "      <td>28</td>\n",
       "      <td>0</td>\n",
       "      <td>0</td>\n",
       "      <td>0</td>\n",
       "      <td>0</td>\n",
       "      <td>1</td>\n",
       "      <td>0</td>\n",
       "      <td>0</td>\n",
       "      <td>0</td>\n",
       "      <td>0</td>\n",
       "      <td>...</td>\n",
       "      <td>0</td>\n",
       "      <td>0</td>\n",
       "      <td>0</td>\n",
       "      <td>0</td>\n",
       "      <td>0</td>\n",
       "      <td>0</td>\n",
       "      <td>24</td>\n",
       "      <td>0</td>\n",
       "      <td>0</td>\n",
       "      <td>0</td>\n",
       "    </tr>\n",
       "  </tbody>\n",
       "</table>\n",
       "<p>5 rows × 21 columns</p>\n",
       "</div>"
      ],
      "text/plain": [
       "        url_len  @  ?  -  =  .  #  %  +  $  ...  *  ,  //  abnormal_url  \\\n",
       "296045       84  0  1  0  5  2  0  0  0  0  ...  0  0   1             1   \n",
       "78962       114  0  1  0  2  2  0  0  0  0  ...  0  0   0             0   \n",
       "360692       22  0  0  0  0  1  0  0  0  0  ...  0  0   0             0   \n",
       "20640        11  0  0  0  0  1  0  0  0  0  ...  0  0   0             0   \n",
       "653547       28  0  0  0  0  1  0  0  0  0  ...  0  0   0             0   \n",
       "\n",
       "        https  digits  letters  Shortining_Service  having_ip_address  target  \n",
       "296045      0       2       65                   0                  0       0  \n",
       "78962       0      12       85                   0                  0       1  \n",
       "360692      0       0       20                   0                  0       1  \n",
       "20640       0       0       10                   0                  0       0  \n",
       "653547      0       0       24                   0                  0       0  \n",
       "\n",
       "[5 rows x 21 columns]"
      ]
     },
     "execution_count": 11,
     "metadata": {},
     "output_type": "execute_result"
    }
   ],
   "source": [
    "X.head()"
   ]
  },
  {
   "cell_type": "markdown",
   "id": "f675ed20",
   "metadata": {},
   "source": [
    "### Splitting Data Into Training And Testing"
   ]
  },
  {
   "cell_type": "code",
   "execution_count": 12,
   "id": "136c6740",
   "metadata": {},
   "outputs": [],
   "source": [
    "X_train, X_test, y_train, y_test = train_test_split(X, y, test_size=0.2, random_state=2)"
   ]
  },
  {
   "cell_type": "markdown",
   "id": "e9ca5856",
   "metadata": {},
   "source": [
    "### Ensemble Learning"
   ]
  },
  {
   "cell_type": "code",
   "execution_count": 32,
   "id": "21089955",
   "metadata": {},
   "outputs": [],
   "source": [
    "from sklearn.model_selection import train_test_split\n",
    "from sklearn.ensemble import VotingClassifier\n",
    "\n",
    "kfold = model_selection.KFold(n_splits=20)\n",
    "\n",
    "model1 = DecisionTreeClassifier(random_state =0)\n",
    "model2 = RandomForestClassifier(n_estimators=10)\n",
    "model3 = KNeighborsClassifier()\n",
    "model4 = GaussianNB()\n",
    "# create the sub models\n",
    "estimators = []\n",
    "estimators.append(('Decision_Tree', model1))\n",
    "estimators.append(('Random_Forest', model2))\n",
    "estimators.append(('KNN', model3))\n",
    "estimators.append(('NB', model4))\n",
    "# create the ensemble model\n",
    "ensemble = VotingClassifier(estimators)"
   ]
  },
  {
   "cell_type": "code",
   "execution_count": 33,
   "id": "c6371edb",
   "metadata": {},
   "outputs": [
    {
     "data": {
      "text/plain": [
       "VotingClassifier(estimators=[('Decision_Tree',\n",
       "                              DecisionTreeClassifier(random_state=0)),\n",
       "                             ('Random_Forest',\n",
       "                              RandomForestClassifier(n_estimators=10)),\n",
       "                             ('KNN', KNeighborsClassifier()),\n",
       "                             ('NB', GaussianNB())])"
      ]
     },
     "execution_count": 33,
     "metadata": {},
     "output_type": "execute_result"
    }
   ],
   "source": [
    "ensemble.fit(X_train,y_train)"
   ]
  },
  {
   "cell_type": "code",
   "execution_count": 34,
   "id": "a3a00c55",
   "metadata": {},
   "outputs": [
    {
     "name": "stdout",
     "output_type": "stream",
     "text": [
      "The ensemble score is 100.0%\n",
      "        ----- Classification report --------\n",
      "              precision    recall  f1-score   support\n",
      "\n",
      "           0       1.00      1.00      1.00      3191\n",
      "           1       1.00      1.00      1.00      6086\n",
      "\n",
      "    accuracy                           1.00      9277\n",
      "   macro avg       1.00      1.00      1.00      9277\n",
      "weighted avg       1.00      1.00      1.00      9277\n",
      "\n"
     ]
    }
   ],
   "source": [
    "print(f\"The ensemble score is {ensemble.score(X_test,y_test) * 100}%\")\n",
    "predict_test = ensemble.predict(X_test)\n",
    "print(\"\"\"        ----- Classification report --------\"\"\")\n",
    "print(classification_report(y_test, predict_test))"
   ]
  },
  {
   "cell_type": "code",
   "execution_count": 35,
   "id": "52f0ed0f",
   "metadata": {},
   "outputs": [
    {
     "data": {
      "image/png": "[encoded data removed]",
      "text/plain": [
       "<Figure size 432x288 with 2 Axes>"
      ]
     },
     "metadata": {
      "needs_background": "light"
     },
     "output_type": "display_data"
    }
   ],
   "source": [
    "conf_matrix = confusion_matrix(y_test, predict_test)\n",
    "\n",
    "ax = sns.heatmap(conf_matrix, annot=True, cmap='Blues')\n",
    "\n",
    "ax.set_title('Seaborn Confusion Matrix with labels\\n\\n');\n",
    "ax.set_xlabel('\\nPredicted Values')\n",
    "ax.set_ylabel('Actual Values ');\n",
    "## Ticket labels - List must be in alphabetical order\n",
    "ax.xaxis.set_ticklabels(['False','True'])\n",
    "ax.yaxis.set_ticklabels(['False','True'])\n",
    "## Display the visualization of the Confusion Matrix.\n",
    "plt.show()"
   ]
  },
  {
   "cell_type": "code",
   "execution_count": 36,
   "id": "327a482e",
   "metadata": {},
   "outputs": [
    {
     "data": {
      "image/png": "[encoded data removed]",
      "text/plain": [
       "<Figure size 720x720 with 1 Axes>"
      ]
     },
     "metadata": {
      "needs_background": "light"
     },
     "output_type": "display_data"
    }
   ],
   "source": [
    "a, b, c = roc_curve(y_test, predict_test)\n",
    "plt.subplots(1, figsize=(10,10))\n",
    "plt.title('Roc Plot for Ensemble learning')\n",
    "plt.plot(a, b)\n",
    "plt.plot([0, 1], ls=\"--\")\n",
    "plt.plot([0, 0], [1, 0] , c=\".7\"), plt.plot([1, 1] , c=\".7\")\n",
    "plt.ylabel('True Positive Rate')\n",
    "plt.xlabel('False Positive Rate')\n",
    "plt.show()"
   ]
  },
  {
   "cell_type": "code",
   "execution_count": 18,
   "id": "3783bd66",
   "metadata": {},
   "outputs": [
    {
     "name": "stdout",
     "output_type": "stream",
     "text": [
      "The ensemble score is 100.0%\n",
      "        ----- Classification report --------\n",
      "              precision    recall  f1-score   support\n",
      "\n",
      "           0       1.00      1.00      1.00      3191\n",
      "           1       1.00      1.00      1.00      6086\n",
      "\n",
      "    accuracy                           1.00      9277\n",
      "   macro avg       1.00      1.00      1.00      9277\n",
      "weighted avg       1.00      1.00      1.00      9277\n",
      "\n"
     ]
    }
   ],
   "source": [
    "kfold = model_selection.KFold(n_splits=10)\n",
    "model1 = DecisionTreeClassifier(random_state =0)\n",
    "model2 = RandomForestClassifier(n_estimators=10)\n",
    "model3 = KNeighborsClassifier()\n",
    "model4 = GaussianNB()\n",
    "# create the sub models\n",
    "estimators = []\n",
    "estimators.append(('Decision_Tree', model1))\n",
    "estimators.append(('Random_Forest', model2))\n",
    "# create the ensemble model\n",
    "ensemble = VotingClassifier(estimators)\n",
    "ensemble.fit(X_train,y_train)\n",
    "print(f\"The ensemble score is {ensemble.score(X_test,y_test) * 100}%\")\n",
    "predict_test = ensemble.predict(X_test)\n",
    "print(\"\"\"        ----- Classification report --------\"\"\")\n",
    "print(classification_report(y_test, predict_test))"
   ]
  },
  {
   "cell_type": "code",
   "execution_count": 19,
   "id": "ffbdc2e2",
   "metadata": {},
   "outputs": [
    {
     "name": "stdout",
     "output_type": "stream",
     "text": [
      "[[3191    0]\n",
      " [   0 6086]]\n"
     ]
    }
   ],
   "source": [
    "#Generate the confusion matrix\n",
    "cf_matrix = confusion_matrix(y_test, predict_test)\n",
    "print(cf_matrix)"
   ]
  },
  {
   "cell_type": "code",
   "execution_count": 21,
   "id": "2a7463d3",
   "metadata": {},
   "outputs": [
    {
     "data": {
      "image/png": "[encoded data removed]",
      "text/plain": [
       "<Figure size 432x288 with 2 Axes>"
      ]
     },
     "metadata": {
      "needs_background": "light"
     },
     "output_type": "display_data"
    }
   ],
   "source": [
    "ax = sns.heatmap(cf_matrix, annot=True, cmap='Blues')\n",
    "\n",
    "ax.set_title('Seaborn Confusion Matrix with labels\\n\\n');\n",
    "ax.set_xlabel('\\nPredicted Values')\n",
    "ax.set_ylabel('Actual Values ');\n",
    "\n",
    "## Ticket labels - List must be in alphabetical order\n",
    "ax.xaxis.set_ticklabels(['False','True'])\n",
    "ax.yaxis.set_ticklabels(['False','True'])\n",
    "\n",
    "## Display the visualization of the Confusion Matrix.\n",
    "plt.show()"
   ]
  },
  {
   "cell_type": "code",
   "execution_count": 24,
   "id": "092e84ed",
   "metadata": {},
   "outputs": [],
   "source": [
    "a, b, c = roc_curve(y_test, predict_test)"
   ]
  },
  {
   "cell_type": "code",
   "execution_count": 25,
   "id": "e190a880",
   "metadata": {},
   "outputs": [
    {
     "data": {
      "image/png": "[encoded data removed]",
      "text/plain": [
       "<Figure size 720x720 with 1 Axes>"
      ]
     },
     "metadata": {
      "needs_background": "light"
     },
     "output_type": "display_data"
    }
   ],
   "source": [
    "plt.subplots(1, figsize=(10,10))\n",
    "plt.title('Roc Plot for Ensemble learning')\n",
    "plt.plot(a, b)\n",
    "plt.plot([0, 1], ls=\"--\")\n",
    "plt.plot([0, 0], [1, 0] , c=\".7\"), plt.plot([1, 1] , c=\".7\")\n",
    "plt.ylabel('True Positive Rate')\n",
    "plt.xlabel('False Positive Rate')\n",
    "plt.show()"
   ]
  },
  {
   "cell_type": "code",
   "execution_count": null,
   "id": "4c5d8519",
   "metadata": {},
   "outputs": [],
   "source": [
    "kfold = model_selection.KFold(n_splits=10)\n",
    "model1 = DecisionTreeClassifier(random_state =0)\n",
    "model2 = RandomForestClassifier(n_estimators=10)\n",
    "model3 = KNeighborsClassifier()\n",
    "model4 = GaussianNB()\n",
    "# create the sub models\n",
    "estimators = []\n",
    "estimators.append(('KNN', model3))\n",
    "estimators.append(('NB', model4))\n",
    "# create the ensemble model\n",
    "ensemble = VotingClassifier(estimators)\n",
    "ensemble.fit(X_train,y_train)\n",
    "print(f\"The ensemble score is {ensemble.score(X_test,y_test) * 100}%\")\n",
    "predict_test = ensemble.predict(X_test)\n",
    "print(\"\"\"        ----- Classification report --------\"\"\")\n",
    "print(classification_report(y_test, predict_test))"
   ]
  },
  {
   "cell_type": "code",
   "execution_count": null,
   "id": "1e024fa4",
   "metadata": {},
   "outputs": [],
   "source": [
    "kfold = model_selection.KFold(n_splits=10)\n",
    "model1 = DecisionTreeClassifier(random_state =0)\n",
    "model2 = RandomForestClassifier(n_estimators=10)\n",
    "model3 = KNeighborsClassifier()\n",
    "model4 = GaussianNB()\n",
    "# create the sub models\n",
    "estimators = []\n",
    "estimators.append(('Decision_Tree', model1))\n",
    "estimators.append(('NB', model4))\n",
    "# create the ensemble model\n",
    "ensemble = VotingClassifier(estimators)\n",
    "ensemble.fit(X_train,y_train)\n",
    "print(f\"The ensemble score is {ensemble.score(X_test,y_test) * 100}%\")\n",
    "predict_test = ensemble.predict(X_test)\n",
    "print(\"\"\"        ----- Classification report --------\"\"\")\n",
    "print(classification_report(y_test, predict_test))"
   ]
  },
  {
   "cell_type": "code",
   "execution_count": null,
   "id": "9e5e4eaf",
   "metadata": {},
   "outputs": [],
   "source": [
    "kfold = model_selection.KFold(n_splits=10)\n",
    "model1 = DecisionTreeClassifier(random_state =0)\n",
    "model2 = RandomForestClassifier(n_estimators=10)\n",
    "model3 = KNeighborsClassifier()\n",
    "model4 = GaussianNB()\n",
    "# create the sub models\n",
    "estimators = []\n",
    "estimators.append(('Random_Forest', model2))\n",
    "estimators.append(('NB', model4))\n",
    "# create the ensemble model\n",
    "ensemble = VotingClassifier(estimators)\n",
    "ensemble.fit(X_train,y_train)\n",
    "print(f\"The ensemble score is {ensemble.score(X_test,y_test) * 100}%\")\n",
    "predict_test = ensemble.predict(X_test)\n",
    "print(\"\"\"        ----- Classification report --------\"\"\")\n",
    "print(classification_report(y_test, predict_test))"
   ]
  },
  {
   "cell_type": "markdown",
   "id": "1dbef0f0",
   "metadata": {},
   "source": [
    "### K-nearest Neighbours"
   ]
  },
  {
   "cell_type": "code",
   "execution_count": null,
   "id": "36069008",
   "metadata": {},
   "outputs": [],
   "source": [
    "classifier = KNeighborsClassifier()\n",
    "classifier.fit(X_train,y_train)\n",
    "y_predict = classifier.predict(X_test)\n",
    "print(f\"The accuracy score for KNN classifier is {accuracy_score(y_test,y_predict) * 100}%\")\n",
    "print(\"\"\"        ----- Classification report --------\"\"\")\n",
    "print(classification_report(y_test, y_predict))"
   ]
  },
  {
   "cell_type": "code",
   "execution_count": null,
   "id": "2e252c58",
   "metadata": {},
   "outputs": [],
   "source": [
    "cf_matrix = confusion_matrix(y_test, y_predict)\n",
    "print(cf_matrix)"
   ]
  },
  {
   "cell_type": "code",
   "execution_count": null,
   "id": "adb717ee",
   "metadata": {},
   "outputs": [],
   "source": [
    "ax = sns.heatmap(cf_matrix, annot=True, cmap='Blues')\n",
    "\n",
    "ax.set_title('Seaborn Confusion Matrix with labels\\n\\n');\n",
    "ax.set_xlabel('\\nPredicted Values')\n",
    "ax.set_ylabel('Actual Values ');\n",
    "\n",
    "## Ticket labels - List must be in alphabetical order\n",
    "ax.xaxis.set_ticklabels(['False','True'])\n",
    "ax.yaxis.set_ticklabels(['False','True'])\n",
    "\n",
    "## Display the visualization of the Confusion Matrix.\n",
    "plt.show()"
   ]
  },
  {
   "cell_type": "markdown",
   "id": "6b0bbe7a",
   "metadata": {},
   "source": [
    "### Random Forest"
   ]
  },
  {
   "cell_type": "code",
   "execution_count": null,
   "id": "40471b0b",
   "metadata": {},
   "outputs": [],
   "source": [
    "classifier = RandomForestClassifier(n_estimators=10)\n",
    "classifier.fit(X_train,y_train)\n",
    "y_pred = classifier.predict(X_test)\n",
    "print(f\" the accuracy score for Random Forest is {accuracy_score(y_test,y_pred) * 100}%\")\n",
    "print(\"\"\"        ----- Classification report --------\"\"\")\n",
    "print(classification_report(y_test, y_pred))"
   ]
  },
  {
   "cell_type": "markdown",
   "id": "87e4c7c9",
   "metadata": {},
   "source": [
    "### Decisoin Tree"
   ]
  },
  {
   "cell_type": "code",
   "execution_count": null,
   "id": "f2bc23bb",
   "metadata": {},
   "outputs": [],
   "source": [
    "classifier = DecisionTreeClassifier(random_state =0)\n",
    "classifier.fit(X_train,y_train)\n",
    "y_predict = classifier.predict(X_test)\n",
    "print(f\" the accuracy score for decision tree is {accuracy_score(y_test,y_predict) * 100}%\")\n",
    "print(\"\"\"        ----- Classification report --------\"\"\")\n",
    "print(classification_report(y_test, y_predict))"
   ]
  }
 ],
 "metadata": {
  "kernelspec": {
   "display_name": "Python 3 (ipykernel)",
   "language": "python",
   "name": "python3"
  },
  "language_info": {
   "codemirror_mode": {
    "name": "ipython",
    "version": 3
   },
   "file_extension": ".py",
   "mimetype": "text/x-python",
   "name": "python",
   "nbconvert_exporter": "python",
   "pygments_lexer": "ipython3",
   "version": "3.9.7"
  }
 },
 "nbformat": 4,
 "nbformat_minor": 5
}
